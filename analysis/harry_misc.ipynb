{
 "cells": [
  {
   "cell_type": "markdown",
   "metadata": {},
   "source": [
    "Notebook for harry testing"
   ]
  },
  {
   "cell_type": "code",
   "execution_count": null,
   "metadata": {},
   "outputs": [
    {
     "ename": "",
     "evalue": "",
     "output_type": "error",
     "traceback": [
      "\u001b[1;31mRunning cells with 'Python 3.12.7' requires the ipykernel package.\n",
      "\u001b[1;31mRun the following command to install 'ipykernel' into the Python environment. \n",
      "\u001b[1;31mCommand: '\"c:/Users/Harry Hall/AppData/Local/Microsoft/WindowsApps/python3.12.exe\" -m pip install ipykernel -U --user --force-reinstall'"
     ]
    }
   ],
   "source": [
    "import sqlite3\n",
    "import pandas as pd\n",
    "import numpy as np\n",
    "import matplotlib.pyplot as plt\n",
    "import seaborn as sns\n",
    "import os\n",
    "import warnings\n",
    "from sklearn.model_selection import train_test_split, cross_val_score\n",
    "from sklearn.ensemble import GradientBoostingClassifier\n",
    "from sklearn.linear_model import LogisticRegression\n",
    "from sklearn.naive_bayes import GaussianNB\n",
    "from sklearn.neighbors import KNeighborsClassifier\n",
    "from sklearn.tree import DecisionTreeClassifier\n",
    "from sklearn.ensemble import RandomForestClassifier\n",
    "from sklearn.metrics import classification_report, confusion_matrix, roc_curve, auc\n",
    "\n",
    "\n",
    "db_path = r\"C:\\Users\\Harry Hall\\OneDrive - UNSW\\Desktop\\MASTERS\\S1\\Research & Innovation\\laliga.sqlite\"\n",
    "conn = sqlite3.connect(db_path)\n",
    "df = pd.read_sql_query(\"SELECT * FROM Matches\", conn)\n",
    "conn.close()\n",
    "display(df.head())\n",
    "\n",
    "conn.close()"
   ]
  },
  {
   "cell_type": "markdown",
   "metadata": {},
   "source": [
    "Now need to clean the data and process into usable features.  \n",
    "  \n",
    "Firslty, dropping rows with no score and then splitting score into home and away component.  \n",
    "  \n",
    "I think it also makes sense to use the final notation suggested in the assignment of: home_win = 1, away_win = 2, tie = X  \n",
    "  "
   ]
  },
  {
   "cell_type": "code",
   "execution_count": null,
   "metadata": {},
   "outputs": [],
   "source": [
    "df = df.dropna(axis = 'index' , how = 'any', subset = 'score')\n",
    "df[['home_score', 'away_score']] = df['score'].str.split(':', expand=True)\n",
    "df['home_score'] = pd.to_numeric(df['home_score'])\n",
    "df['away_score'] = pd.to_numeric(df['away_score'])\n",
    "df = df[(~df['home_score'].isnull()) | (~df['away_score'].isnull())]\n",
    "\n",
    "df['result'] = df.apply(lambda row: '1' if row['home_score'] > row['away_score']\n",
    "                                        else '2' if row['home_score'] < row['away_score']\n",
    "                                        else 'X', axis=1)\n",
    "\n"
   ]
  },
  {
   "cell_type": "markdown",
   "metadata": {},
   "source": []
  },
  {
   "cell_type": "markdown",
   "metadata": {},
   "source": [
    "-goals scores (at home and away)  \n",
    "-goals conceded (at home and away)  \n",
    "-goal difference  \n",
    "-current ranking  \n",
    "-average ranking in the last 5 seasons for example  \n",
    "-current streak of games (average number of points gained in the last X games)  \n",
    "-head2head (goals scored, conceded, wins, ties...)  \n",
    "-general win/tie/loses rate of each team  \n",
    "-Number of promotions and relegations ?  \n",
    "-biggest win ?  \n",
    "-longest undefeated streak ?  \n",
    "-day and hour ?  "
   ]
  },
  {
   "cell_type": "code",
   "execution_count": null,
   "metadata": {},
   "outputs": [],
   "source": [
    "df['gd_5_game_home'] = None\n",
    "df['gd_5_game_away'] = None\n",
    "df['form_10_game_home'] = None\n",
    "df['form_10_game_away'] = None\n",
    "\n",
    "df['live_rank_home'] = None\n",
    "df['live_rank_away'] = None\n",
    "\n",
    "def calculate_gd_5_game(df):\n",
    "    teams = df['home_team'].unique()\n",
    "    for team in teams:\n",
    "        team_df = df[(df['home_team'] == team) | (df['away_team'] == team)].copy()\n",
    "        team_df['goal_difference'] = team_df.apply(\n",
    "            lambda x: x['home_score'] - x['away_score'] if x['home_team'] == team else x['away_score'] - x['home_score'], axis=1\n",
    "        )\n",
    "        team_df['gd_5_game'] = team_df['goal_difference'].rolling(window=5).sum().shift(1)\n",
    "        \n",
    "        # Assign gd_5_game to the appropriate column based on home or away\n",
    "        df.loc[team_df[team_df['home_team'] == team].index, 'gd_5_game_home'] = team_df.loc[team_df['home_team'] == team, 'gd_5_game']\n",
    "        df.loc[team_df[team_df['away_team'] == team].index, 'gd_5_game_away'] = team_df.loc[team_df['away_team'] == team, 'gd_5_game']\n",
    "    \n",
    "    return df\n",
    "\n",
    "def calculate_form_10_game(df):\n",
    "    teams = df['home_team'].unique()\n",
    "    for team in teams:\n",
    "        team_df = df[(df['home_team'] == team) | (df['away_team'] == team)].copy()\n",
    "        team_df['win'] = team_df.apply(\n",
    "            lambda x: 1 if (x['home_team'] == team and x['home_score'] > x['away_score']) or \n",
    "                           (x['away_team'] == team and x['away_score'] > x['home_score']) else 0, axis=1\n",
    "        )\n",
    "        team_df['form_10_game'] = team_df['win'].rolling(window=10).sum().shift(1)\n",
    "        \n",
    "        # Assign form_10_game to the appropriate column based on home or away\n",
    "        df.loc[team_df[team_df['home_team'] == team].index, 'form_10_game_home'] = team_df.loc[team_df['home_team'] == team, 'form_10_game']\n",
    "        df.loc[team_df[team_df['away_team'] == team].index, 'form_10_game_away'] = team_df.loc[team_df['away_team'] == team, 'form_10_game']\n",
    "    \n",
    "    return df\n",
    "\n",
    "# THIS FUNCTION NEEDS WORK\n",
    "def calculate_live_rank(df):\n",
    "    teams = df['home_team'].unique()\n",
    "    points_table = {team: 0 for team in teams}\n",
    "    matchdays = sorted(df['matchday'].unique())\n",
    "    \n",
    "    for matchday in matchdays:\n",
    "        day_df = df[df['matchday'] == matchday]\n",
    "        for _, row in day_df.iterrows():\n",
    "            home_team, away_team = row['home_team'], row['away_team']\n",
    "            home_score, away_score = row['home_score'], row['away_score']\n",
    "            \n",
    "            # Update points based on match result\n",
    "            if home_score > away_score:\n",
    "                points_table[home_team] += 3\n",
    "            elif away_score > home_score:\n",
    "                points_table[away_team] += 3\n",
    "            else:\n",
    "                points_table[home_team] += 1\n",
    "                points_table[away_team] += 1\n",
    "        \n",
    "        # Sort teams by points and assign ranks\n",
    "        sorted_teams = sorted(points_table.items(), key=lambda x: x[1], reverse=True)\n",
    "        rank_dict = {team: rank+1 for rank, (team, _) in enumerate(sorted_teams)}\n",
    "        \n",
    "        # Update live rank for this matchday for both home and away teams\n",
    "        for _, row in day_df.iterrows():\n",
    "            df.loc[row.name, 'live_rank_home'] = rank_dict[row['home_team']]\n",
    "            df.loc[row.name, 'live_rank_away'] = rank_dict[row['away_team']]\n",
    "    \n",
    "    return df\n",
    "\n",
    "\n",
    "df = calculate_gd_5_game(df)\n",
    "df = calculate_form_10_game(df)\n",
    "df = calculate_live_rank(df)\n",
    "\n",
    "\n",
    "display(df.head())\n",
    "display(df.tail())\n"
   ]
  },
  {
   "cell_type": "code",
   "execution_count": null,
   "metadata": {},
   "outputs": [
    {
     "ename": "",
     "evalue": "",
     "output_type": "error",
     "traceback": [
      "\u001b[1;31mRunning cells with 'Python 3.11.10' requires the ipykernel package.\n",
      "\u001b[1;31mRun the following command to install 'ipykernel' into the Python environment. \n",
      "\u001b[1;31mCommand: 'c:/msys64/mingw64/bin/python3.exe -m pip install ipykernel -U --user --force-reinstall'"
     ]
    }
   ],
   "source": [
    "df['prev_season_rank_home'] = None\n",
    "df['prev_season_rank_away'] = None\n",
    "\n",
    "def calculate_season_ranks(df):\n",
    "\n",
    "    prev_season_ranks = {}\n",
    "\n",
    "    seasons = df['season'].unique()\n",
    "    for season in seasons:\n",
    "\n",
    "        season_df = df[df['season'] == season].copy()\n",
    "\n",
    "        points_table = {}\n",
    "\n",
    "        for _, row in season_df.iterrows():\n",
    "            home_team, away_team = row['home_team'], row['away_team']\n",
    "            home_score, away_score = row['home_score'], row['away_score']\n",
    "\n",
    "            if home_team not in points_table:\n",
    "                points_table[home_team] = 0\n",
    "            if away_team not in points_table:\n",
    "                points_table[away_team] = 0\n",
    "\n",
    "            if home_score > away_score:\n",
    "                points_table[home_team] += 3\n",
    "            elif away_score > home_score:\n",
    "                points_table[away_team] += 3\n",
    "            else:\n",
    "                points_table[home_team] += 1\n",
    "                points_table[away_team] += 1\n",
    "\n",
    "        ranked_teams = sorted(points_table.items(), key=lambda x: x[1], reverse=True)\n",
    "        season_ranking = {team: rank+1 for rank, (team, _) in enumerate(ranked_teams)}\n",
    "\n",
    "        for team, rank in season_ranking.items():\n",
    "            prev_season_ranks[(season, team)] = rank\n",
    "    \n",
    "    return prev_season_ranks\n",
    "\n",
    "prev_season_ranks = calculate_season_ranks(df)\n",
    "\n",
    "\n",
    "def assign_prev_season_rank(df, prev_season_ranks):\n",
    "\n",
    "    for i, row in df.iterrows():\n",
    "        current_season = row['season']\n",
    "        home_team = row['home_team']\n",
    "        away_team = row['away_team']\n",
    "\n",
    "        prev_season_year = str(int(current_season.split('-')[0]) - 1) + '-' + str(int(current_season.split('-')[1]) - 1)\n",
    "\n",
    "        df.at[i, 'prev_season_rank_home'] = prev_season_ranks.get((prev_season_year, home_team), None)\n",
    "        df.at[i, 'prev_season_rank_away'] = prev_season_ranks.get((prev_season_year, away_team), None)\n",
    "    \n",
    "    return df\n",
    "\n",
    "df = assign_prev_season_rank(df, prev_season_ranks)\n",
    "\n",
    "display(df[['season', 'home_team', 'away_team', 'prev_season_rank_home', 'prev_season_rank_away']].head())\n",
    "display(df.tail())\n"
   ]
  },
  {
   "cell_type": "code",
   "execution_count": 41,
   "metadata": {},
   "outputs": [
    {
     "name": "stdout",
     "output_type": "stream",
     "text": [
      "Index(['season', 'division', 'matchday', 'home_team', 'away_team',\n",
      "       'gd_5_game_home', 'gd_5_game_away', 'form_10_game_home',\n",
      "       'form_10_game_away', 'live_rank_home', 'live_rank_away',\n",
      "       'prev_season_rank_home', 'prev_season_rank_away'],\n",
      "      dtype='object')\n",
      "0    2\n",
      "1    1\n",
      "2    1\n",
      "3    X\n",
      "4    2\n",
      "5    2\n",
      "6    1\n",
      "7    2\n",
      "8    1\n",
      "9    1\n",
      "Name: result, dtype: object\n"
     ]
    },
    {
     "ename": "TypeError",
     "evalue": "corr() got an unexpected keyword argument 'numeric_only'",
     "output_type": "error",
     "traceback": [
      "\u001b[1;31m---------------------------------------------------------------------------\u001b[0m",
      "\u001b[1;31mTypeError\u001b[0m                                 Traceback (most recent call last)",
      "\u001b[1;32mC:\\Users\\HARRYH~1\\AppData\\Local\\Temp/ipykernel_14088/3473821959.py\u001b[0m in \u001b[0;36m<module>\u001b[1;34m\u001b[0m\n\u001b[0;32m      7\u001b[0m \u001b[0mprint\u001b[0m\u001b[1;33m(\u001b[0m\u001b[0my\u001b[0m\u001b[1;33m[\u001b[0m\u001b[1;33m:\u001b[0m\u001b[1;36m10\u001b[0m\u001b[1;33m,\u001b[0m\u001b[1;33m]\u001b[0m\u001b[1;33m)\u001b[0m\u001b[1;33m\u001b[0m\u001b[1;33m\u001b[0m\u001b[0m\n\u001b[0;32m      8\u001b[0m \u001b[1;33m\u001b[0m\u001b[0m\n\u001b[1;32m----> 9\u001b[1;33m \u001b[0mX\u001b[0m\u001b[1;33m.\u001b[0m\u001b[0mcorr\u001b[0m\u001b[1;33m(\u001b[0m\u001b[0mnumeric_only\u001b[0m\u001b[1;33m=\u001b[0m\u001b[1;32mTrue\u001b[0m\u001b[1;33m)\u001b[0m\u001b[1;33m.\u001b[0m\u001b[0mstyle\u001b[0m\u001b[1;33m.\u001b[0m\u001b[0mbackground_gradient\u001b[0m\u001b[1;33m(\u001b[0m\u001b[1;34m\"coolwarm\"\u001b[0m\u001b[1;33m,\u001b[0m \u001b[0mvmin\u001b[0m\u001b[1;33m=\u001b[0m\u001b[1;33m-\u001b[0m\u001b[1;36m1\u001b[0m\u001b[1;33m,\u001b[0m \u001b[0mvmax\u001b[0m\u001b[1;33m=\u001b[0m\u001b[1;36m1\u001b[0m\u001b[1;33m)\u001b[0m\u001b[1;33m\u001b[0m\u001b[1;33m\u001b[0m\u001b[0m\n\u001b[0m",
      "\u001b[1;31mTypeError\u001b[0m: corr() got an unexpected keyword argument 'numeric_only'"
     ]
    }
   ],
   "source": [
    "y = df.loc[:,'result']\n",
    "\n",
    "cols_to_drop = ['score','home_score','away_score','result']\n",
    "X = df.drop(columns=cols_to_drop)\n",
    "X = X.drop(columns=['date', 'time'])\n",
    "print(X.columns)\n",
    "print(y[:10,])\n",
    "\n",
    "X.corr(numeric_only=True).style.background_gradient(\"coolwarm\", vmin=-1, vmax=1)"
   ]
  }
 ],
 "metadata": {
  "kernelspec": {
   "display_name": "Python 3",
   "language": "python",
   "name": "python3"
  },
  "language_info": {
   "codemirror_mode": {
    "name": "ipython",
    "version": 3
   },
   "file_extension": ".py",
   "mimetype": "text/x-python",
   "name": "python",
   "nbconvert_exporter": "python",
   "pygments_lexer": "ipython3",
   "version": "3.11.10"
  }
 },
 "nbformat": 4,
 "nbformat_minor": 2
}
